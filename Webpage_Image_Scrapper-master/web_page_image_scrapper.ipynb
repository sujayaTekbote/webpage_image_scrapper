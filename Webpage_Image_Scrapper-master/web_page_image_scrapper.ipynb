{
 "cells": [
  {
   "cell_type": "code",
   "execution_count": null,
   "metadata": {},
   "outputs": [
    {
     "name": "stdout",
     "output_type": "stream",
     "text": [
      "Input Your Link: https://learncodeonline.in/\n",
      "Image Link: 1\n",
      "//learncodeonline.in/wp-content/uploads/2018/09/Artboard.png\n",
      "Image Link: 2\n",
      "https://learncodeonline.in/wp-content/themes/utouch/svg/google-play.svg\n",
      "Image Link: 3\n",
      "https://learncodeonline.in/wp-content/uploads/2019/02/banner1N.png\n",
      "Image Link: 4\n",
      "https://learncodeonline.in/wp-content/uploads/2018/09/slides2.png\n",
      "Image Link: 5\n",
      "https://learncodeonline.in/wp-content/themes/utouch/svg/google-play.svg\n",
      "Image Link: 6\n",
      "https://learncodeonline.in/wp-content/uploads/2017/08/smartphone.svg\n",
      "Image Link: 7\n",
      "https://learncodeonline.in/wp-content/uploads/2017/08/calendar.svg\n",
      "Image Link: 8\n",
      "https://learncodeonline.in/wp-content/uploads/2017/08/clock.svg\n",
      "Image Link: 9\n",
      "https://learncodeonline.in/wp-content/uploads/2018/09/1.png\n",
      "Image Link: 10\n",
      "https://learncodeonline.in/wp-content/themes/utouch/svg/google-play.svg\n",
      "Image Link: 11\n",
      "https://learncodeonline.in/wp-content/uploads/2018/09/2.png\n",
      "Image Link: 12\n",
      "https://learncodeonline.in/wp-content/themes/utouch/svg/google-play.svg\n",
      "Image Link: 13\n",
      "https://learncodeonline.in/wp-content/uploads/2018/09/3.png\n"
     ]
    }
   ],
   "source": [
    "#web page- Image scrapper\n",
    "import requests\n",
    "from bs4 import *\n",
    "from PIL import Image\n",
    "import matplotlib.pyplot as plt\n",
    "import os\n",
    "desktop = os.path.join(os.path.join(os.path.expanduser('~')), 'Desktop') \n",
    "link = input(\"Input Your Link: \")\n",
    "req = requests.get(link)\n",
    "soup = BeautifulSoup(req.text,'lxml')\n",
    "imgs=soup.find_all('img')\n",
    "k = 1\n",
    "for i in imgs:\n",
    "    try:\n",
    "        url =i['src']\n",
    "        print('Image Link:',k)\n",
    "        print(url)\n",
    "        response = requests.get(url,stream=True)\n",
    "        img = Image.open(response.raw)\n",
    "        plt.imshow(img)\n",
    "        plt.close()\n",
    "        img.save(desktop+'/Image_Scraping/{}.jpg'.format(str(k)))\n",
    "    except:\n",
    "        KeyError\n",
    "    k+=1"
   ]
  },
  {
   "cell_type": "code",
   "execution_count": null,
   "metadata": {},
   "outputs": [],
   "source": []
  }
 ],
 "metadata": {
  "kernelspec": {
   "display_name": "Python 3",
   "language": "python",
   "name": "python3"
  },
  "language_info": {
   "codemirror_mode": {
    "name": "ipython",
    "version": 3
   },
   "file_extension": ".py",
   "mimetype": "text/x-python",
   "name": "python",
   "nbconvert_exporter": "python",
   "pygments_lexer": "ipython3",
   "version": "3.6.7"
  }
 },
 "nbformat": 4,
 "nbformat_minor": 2
}
